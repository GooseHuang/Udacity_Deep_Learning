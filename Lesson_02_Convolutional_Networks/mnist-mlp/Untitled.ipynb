{
 "cells": [
  {
   "cell_type": "code",
   "execution_count": 1,
   "id": "eb47f954",
   "metadata": {},
   "outputs": [
    {
     "name": "stdout",
     "output_type": "stream",
     "text": [
      "> \u001b[0;32m<ipython-input-1-eae140b2dde4>\u001b[0m(8)\u001b[0;36m<module>\u001b[0;34m()\u001b[0m\n",
      "\u001b[0;32m      6 \u001b[0;31m        \u001b[0;31m# os.system(\"start CHROME.EXE \" + \"http://localhost:8889/notebooks\" + os.getcwd().replace('\\\\','/').split('huangqiliang')[1])\u001b[0m\u001b[0;34m\u001b[0m\u001b[0;34m\u001b[0m\u001b[0;34m\u001b[0m\u001b[0m\n",
      "\u001b[0m\u001b[0;32m      7 \u001b[0;31m        \u001b[0;32mimport\u001b[0m \u001b[0mpdb\u001b[0m\u001b[0;34m;\u001b[0m\u001b[0mpdb\u001b[0m\u001b[0;34m.\u001b[0m\u001b[0mset_trace\u001b[0m\u001b[0;34m(\u001b[0m\u001b[0;34m)\u001b[0m\u001b[0;34m\u001b[0m\u001b[0;34m\u001b[0m\u001b[0m\n",
      "\u001b[0m\u001b[0;32m----> 8 \u001b[0;31m        \u001b[0mfile_path\u001b[0m \u001b[0;34m=\u001b[0m \u001b[0mos\u001b[0m\u001b[0;34m.\u001b[0m\u001b[0mgetcwd\u001b[0m\u001b[0;34m(\u001b[0m\u001b[0;34m)\u001b[0m\u001b[0;34m\u001b[0m\u001b[0;34m\u001b[0m\u001b[0m\n",
      "\u001b[0m\u001b[0;32m      9 \u001b[0;31m\u001b[0;34m\u001b[0m\u001b[0m\n",
      "\u001b[0m\u001b[0;32m     10 \u001b[0;31m        \u001b[0;31m# MacOS\u001b[0m\u001b[0;34m\u001b[0m\u001b[0;34m\u001b[0m\u001b[0;34m\u001b[0m\u001b[0m\n",
      "\u001b[0m\n",
      "ipdb> q\n",
      "\n"
     ]
    },
    {
     "name": "stderr",
     "output_type": "stream",
     "text": [
      "Traceback (most recent call last):\n",
      "  File \"<ipython-input-1-eae140b2dde4>\", line 8, in <module>\n",
      "    file_path = os.getcwd()\n",
      "  File \"<ipython-input-1-eae140b2dde4>\", line 8, in <module>\n",
      "    file_path = os.getcwd()\n",
      "  File \"/Users/huangqiliang/opt/anaconda3/lib/python3.8/bdb.py\", line 88, in trace_dispatch\n",
      "    return self.dispatch_line(frame)\n",
      "  File \"/Users/huangqiliang/opt/anaconda3/lib/python3.8/bdb.py\", line 113, in dispatch_line\n",
      "    if self.quitting: raise BdbQuit\n",
      "bdb.BdbQuit\n"
     ]
    }
   ],
   "source": [
    "import os\n",
    "import traceback\n",
    "import webbrowser\n",
    "try:\n",
    "\t# print(os.getcwd())\n",
    "\t# os.system(\"start CHROME.EXE \" + \"http://localhost:8889/notebooks\" + os.getcwd().replace('\\\\','/').split('huangqiliang')[1])\n",
    "\timport pdb;pdb.set_trace()\n",
    "\tfile_path = os.getcwd()\n",
    "\n",
    "\t# MacOS\n",
    "\tchrome_path = r'open -a /Applications/Google\\ Chrome.app %s'\n",
    "\n",
    "\t# url = \"http://localhost:8888/notebooks\" + file_path.replace('\\\\','/').split('huangqiliang')[1]\n",
    "\t# print(url)\n",
    "\t# os.system(\"start CHROME.EXE \" + url)\n",
    "\twebbrowser.get(chrome_path).open(url)\n",
    "\n",
    "\n",
    "except Exception as e:\n",
    "\tprint(e)\n",
    "\ttraceback.print_exc()\n",
    "\timport time\n",
    "\ttime.sleep(10) \n"
   ]
  },
  {
   "cell_type": "code",
   "execution_count": 4,
   "id": "30b62066",
   "metadata": {},
   "outputs": [],
   "source": [
    "file_path = os.getcwd()\n",
    "url = \"http://localhost:8888/notebooks\" + file_path.replace('\\\\','/').split('huangqiliang')[1]"
   ]
  },
  {
   "cell_type": "code",
   "execution_count": 5,
   "id": "b0a17a0c",
   "metadata": {},
   "outputs": [],
   "source": [
    "chrome_path = r'open -a /Applications/Google\\ Chrome.app %s'"
   ]
  },
  {
   "cell_type": "code",
   "execution_count": 6,
   "id": "2363d811",
   "metadata": {},
   "outputs": [
    {
     "data": {
      "text/plain": [
       "True"
      ]
     },
     "execution_count": 6,
     "metadata": {},
     "output_type": "execute_result"
    }
   ],
   "source": [
    "webbrowser.get(chrome_path).open(url)"
   ]
  },
  {
   "cell_type": "code",
   "execution_count": 8,
   "id": "8a64177f",
   "metadata": {},
   "outputs": [
    {
     "data": {
      "text/plain": [
       "'Github/Udacity_Deep_Learning/Lesson_02_Convolutional_Networks/mnist-mlp'"
      ]
     },
     "execution_count": 8,
     "metadata": {},
     "output_type": "execute_result"
    }
   ],
   "source": [
    "os.path.dirname('Github/Udacity_Deep_Learning/Lesson_02_Convolutional_Networks/mnist-mlp/JupyterStarter.command')"
   ]
  },
  {
   "cell_type": "code",
   "execution_count": null,
   "id": "32673de5",
   "metadata": {},
   "outputs": [],
   "source": []
  },
  {
   "cell_type": "code",
   "execution_count": null,
   "id": "93aa4494",
   "metadata": {},
   "outputs": [],
   "source": []
  },
  {
   "cell_type": "code",
   "execution_count": null,
   "id": "be2ff3b3",
   "metadata": {},
   "outputs": [],
   "source": []
  }
 ],
 "metadata": {
  "kernelspec": {
   "display_name": "Python 3",
   "language": "python",
   "name": "python3"
  },
  "language_info": {
   "codemirror_mode": {
    "name": "ipython",
    "version": 3
   },
   "file_extension": ".py",
   "mimetype": "text/x-python",
   "name": "python",
   "nbconvert_exporter": "python",
   "pygments_lexer": "ipython3",
   "version": "3.8.8"
  }
 },
 "nbformat": 4,
 "nbformat_minor": 5
}
